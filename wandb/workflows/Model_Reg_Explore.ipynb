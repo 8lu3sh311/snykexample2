{
 "cells": [
  {
   "cell_type": "code",
   "execution_count": 1,
   "id": "41d6e2ee-0197-4c1a-bd70-5e765ac4b73c",
   "metadata": {},
   "outputs": [],
   "source": [
    "import wandb\n",
    "import os\n",
    "import math\n",
    "import pandas as pd\n",
    "from wandb.workflows import model_registry as MR\n",
    "from wandb.workflows import model_registry_example as UserCode\n",
    "\n",
    "project_name = \"model_reg_api_demo_5\"\n",
    "os.environ[\"WANDB_PROJECT\"] = project_name"
   ]
  },
  {
   "cell_type": "markdown",
   "id": "d5f68d76-5394-49c0-8c7f-cf8ca1da8a24",
   "metadata": {},
   "source": [
    "# 💎 Step 1: Train a Model\n",
    "\n",
    "Here, we train a model against the famous MNIST dataset. For brevity of this demo, typical user code has been abstracted out into a `UserCode` package.\n",
    "\n",
    "* We initialize a run with a configuration - as is standard for wandb scripts\n",
    "* We then call some user code to fetch training data, build a model, and train\n",
    "* Importantly, we define an `onEpochEnd` callback hook which simulates how the user might instrument saving a model periodically. We log loss and accuracy in the familiar wandb.log method.\n",
    "* **The key method to notice is `log_model`** which is a 1 liner to log a model.\n",
    "\n",
    "The script will result in `epochs` # of versions in an Artifact Sequence"
   ]
  },
  {
   "cell_type": "code",
   "execution_count": 2,
   "id": "8901ab61-8a83-439e-b9d6-76b6f2aaa46b",
   "metadata": {},
   "outputs": [
    {
     "name": "stderr",
     "output_type": "stream",
     "text": [
      "\u001b[34m\u001b[1mwandb\u001b[0m: Currently logged in as: \u001b[33mtimssweeney\u001b[0m (use `wandb login --relogin` to force relogin)\n"
     ]
    },
    {
     "data": {
      "text/html": [
       "\n",
       "                    Syncing run <strong><a href=\"https://wandb.ai/timssweeney/model_reg_api_demo_5/runs/mohjdfwm\" target=\"_blank\">cosmic-gorge-3</a></strong> to <a href=\"https://wandb.ai/timssweeney/model_reg_api_demo_5\" target=\"_blank\">Weights & Biases</a> (<a href=\"https://docs.wandb.com/integrations/jupyter.html\" target=\"_blank\">docs</a>).<br/>\n",
       "\n",
       "                "
      ],
      "text/plain": [
       "<IPython.core.display.HTML object>"
      ]
     },
     "metadata": {},
     "output_type": "display_data"
    },
    {
     "name": "stdout",
     "output_type": "stream",
     "text": [
      "Train Epoch: 1 [0/1000 (0%)]\tLoss: 2.306718\n",
      "Train Epoch: 1 [640/1000 (62%)]\tLoss: 1.737246\n",
      "\n",
      "Test set: Average loss: 1.0309, Accuracy: 132/200 (66%)\n",
      "\n",
      "Train Epoch: 2 [0/1000 (0%)]\tLoss: 1.218092\n",
      "Train Epoch: 2 [640/1000 (62%)]\tLoss: 0.765248\n",
      "\n",
      "Test set: Average loss: 0.4843, Accuracy: 168/200 (84%)\n",
      "\n",
      "Train Epoch: 3 [0/1000 (0%)]\tLoss: 0.695375\n",
      "Train Epoch: 3 [640/1000 (62%)]\tLoss: 0.669945\n",
      "\n",
      "Test set: Average loss: 0.3149, Accuracy: 177/200 (88%)\n",
      "\n",
      "Train Epoch: 4 [0/1000 (0%)]\tLoss: 0.341153\n",
      "Train Epoch: 4 [640/1000 (62%)]\tLoss: 0.451664\n",
      "\n",
      "Test set: Average loss: 0.2868, Accuracy: 183/200 (92%)\n",
      "\n",
      "Train Epoch: 5 [0/1000 (0%)]\tLoss: 0.285779\n",
      "Train Epoch: 5 [640/1000 (62%)]\tLoss: 0.357483\n",
      "\n",
      "Test set: Average loss: 0.2658, Accuracy: 186/200 (93%)\n",
      "\n"
     ]
    },
    {
     "data": {
      "text/html": [
       "<br/>Waiting for W&B process to finish, PID 8465... <strong style=\"color:green\">(success).</strong>"
      ],
      "text/plain": [
       "<IPython.core.display.HTML object>"
      ]
     },
     "metadata": {},
     "output_type": "display_data"
    },
    {
     "data": {
      "text/html": [
       "<style>\n",
       "    table.wandb td:nth-child(1) { padding: 0 10px; text-align: right }\n",
       "    .wandb-row { display: flex; flex-direction: row; flex-wrap: wrap; width: 100% }\n",
       "    .wandb-col { display: flex; flex-direction: column; flex-basis: 100%; flex: 1; padding: 10px; }\n",
       "    </style>\n",
       "<div class=\"wandb-row\"><div class=\"wandb-col\">\n",
       "<h3>Run history:</h3><br/><table class=\"wandb\"><tr><td>epoch</td><td>▁▃▅▆█</td></tr><tr><td>val_acc</td><td>▁▆▇██</td></tr><tr><td>val_loss</td><td>█▃▁▁▁</td></tr></table><br/></div><div class=\"wandb-col\">\n",
       "<h3>Run summary:</h3><br/><table class=\"wandb\"><tr><td>epoch</td><td>5</td></tr><tr><td>val_acc</td><td>93.0</td></tr><tr><td>val_loss</td><td>0.26582</td></tr></table>\n",
       "</div></div>\n",
       "Synced 6 W&B file(s), 0 media file(s), 12 artifact file(s) and 1 other file(s)\n",
       "<br/>Synced <strong style=\"color:#cdcd00\">cosmic-gorge-3</strong>: <a href=\"https://wandb.ai/timssweeney/model_reg_api_demo_5/runs/mohjdfwm\" target=\"_blank\">https://wandb.ai/timssweeney/model_reg_api_demo_5/runs/mohjdfwm</a><br/>\n",
       "Find logs at: <code>./wandb/run-20220208_185852-mohjdfwm/logs</code><br/>\n"
      ],
      "text/plain": [
       "<IPython.core.display.HTML object>"
      ]
     },
     "metadata": {},
     "output_type": "display_data"
    }
   ],
   "source": [
    "run1 = wandb.init(config={\n",
    "    \"batch_size\"    : 64,\n",
    "    \"gamma\"         : 0.7,\n",
    "    \"lr\"            : 1.0,\n",
    "    \"epochs\"        : 5,\n",
    "    \"seed\"          : 1,\n",
    "    \"train_count\"   : 1000,\n",
    "    \"val_count\"     : 200,\n",
    "})\n",
    "cfg                     = wandb.config\n",
    "_                       = UserCode.seed(cfg.seed)\n",
    "\n",
    "train_data, val_data    = UserCode.load_training_data_split(train_count=cfg.train_count, val_count=cfg.val_count)\n",
    "model, opt              = UserCode.build_model(lr=cfg.lr)\n",
    "\n",
    "lowest_loss             = math.inf\n",
    "best_model              = None\n",
    "\n",
    "def onEpochEnd(epoch, model):\n",
    "    global lowest_loss\n",
    "    global best_model\n",
    "\n",
    "    val_loss, val_acc, _ = UserCode.evaluate_model(model, val_data)\n",
    "    \n",
    "    wandb.log({\n",
    "        \"epoch\"    : epoch, \n",
    "        \"val_loss\" : val_loss, \n",
    "        \"val_acc\"  : val_acc\n",
    "    })\n",
    "    \n",
    "    if val_loss < lowest_loss:\n",
    "        lowest_loss     = val_loss\n",
    "        best_model      = MR.log_model(model, \"mnist_nn\", aliases=[\"best\"])\n",
    "    else:\n",
    "        _               = MR.log_model(model, \"mnist_nn\")\n",
    "    \n",
    "\n",
    "_ = UserCode.train_model(\n",
    "    model        = model, \n",
    "    optimizer    = opt, \n",
    "    train_data   = train_data, \n",
    "    batch_size   = cfg.batch_size, \n",
    "    gamma        = cfg.gamma, \n",
    "    epochs       = cfg.epochs, \n",
    "    onEpochEnd   = onEpochEnd\n",
    ")\n",
    "\n",
    "wandb.finish()\n"
   ]
  },
  {
   "cell_type": "markdown",
   "id": "e1dab48d-a3ec-4875-8f7e-c8384efd53cd",
   "metadata": {},
   "source": [
    "# ✈️ Step 2: Publish to a Registered Model\n",
    "\n",
    "TODO: Either get `MR.link(best_model, \"mnist\")` to work, or show this in the UI"
   ]
  },
  {
   "cell_type": "markdown",
   "id": "2976d318-fd77-47d0-96be-db77a584e0e1",
   "metadata": {},
   "source": [
    "# ⚙️ Step 3: Evaluate a Model\n",
    "\n",
    "In this next step, we use similar abstractions. We show the following:\n",
    "\n",
    "* User code to load test data\n",
    "* **New `use_model` function that fetches a SavedModel**\n",
    "* User code to evaluate the model & create a table of prections\n",
    "* **New `log_evaluation_table` function to log an eval table for the model**"
   ]
  },
  {
   "cell_type": "code",
   "execution_count": 3,
   "id": "fce2f2f6-9ec8-4ce7-ac5f-9b98c7c05a9f",
   "metadata": {},
   "outputs": [
    {
     "data": {
      "text/html": [
       "\n",
       "                    Syncing run <strong><a href=\"https://wandb.ai/timssweeney/model_reg_api_demo_5/runs/1ycl2r79\" target=\"_blank\">vital-armadillo-4</a></strong> to <a href=\"https://wandb.ai/timssweeney/model_reg_api_demo_5\" target=\"_blank\">Weights & Biases</a> (<a href=\"https://docs.wandb.com/integrations/jupyter.html\" target=\"_blank\">docs</a>).<br/>\n",
       "\n",
       "                "
      ],
      "text/plain": [
       "<IPython.core.display.HTML object>"
      ]
     },
     "metadata": {},
     "output_type": "display_data"
    },
    {
     "name": "stdout",
     "output_type": "stream",
     "text": [
      "\n",
      "Test set: Average loss: 0.2430, Accuracy: 96/100 (96%)\n",
      "\n"
     ]
    },
    {
     "data": {
      "text/html": [
       "<br/>Waiting for W&B process to finish, PID 8565... <strong style=\"color:green\">(success).</strong>"
      ],
      "text/plain": [
       "<IPython.core.display.HTML object>"
      ]
     },
     "metadata": {},
     "output_type": "display_data"
    },
    {
     "data": {
      "text/html": [
       "<style>\n",
       "    table.wandb td:nth-child(1) { padding: 0 10px; text-align: right }\n",
       "    .wandb-row { display: flex; flex-direction: row; flex-wrap: wrap; width: 100% }\n",
       "    .wandb-col { display: flex; flex-direction: column; flex-basis: 100%; flex: 1; padding: 10px; }\n",
       "    </style>\n",
       "<div class=\"wandb-row\"><div class=\"wandb-col\">\n",
       "</div><div class=\"wandb-col\">\n",
       "</div></div>\n",
       "Synced 6 W&B file(s), 1 media file(s), 103 artifact file(s) and 1 other file(s)\n",
       "<br/>Synced <strong style=\"color:#cdcd00\">vital-armadillo-4</strong>: <a href=\"https://wandb.ai/timssweeney/model_reg_api_demo_5/runs/1ycl2r79\" target=\"_blank\">https://wandb.ai/timssweeney/model_reg_api_demo_5/runs/1ycl2r79</a><br/>\n",
       "Find logs at: <code>./wandb/run-20220208_185946-1ycl2r79/logs</code><br/>\n"
      ],
      "text/plain": [
       "<IPython.core.display.HTML object>"
      ]
     },
     "metadata": {},
     "output_type": "display_data"
    }
   ],
   "source": [
    "# TODO: Change this to the collection you want to target\n",
    "# Ideally this is a portfolio, not the sequence from the run, but waiting on linking\n",
    "registered_model_name = f'mnist_nn-{run1.id}'\n",
    "wandb.init(\n",
    "    job_type=\"evaluation\",\n",
    "    config={\n",
    "        \"test_size\": 100,\n",
    "    }\n",
    ")\n",
    "test_data        = UserCode.load_test_data(wandb.config.test_size)\n",
    "model            = MR.use_model(f'{project_name}/{registered_model_name}')\n",
    "loss, acc, preds = UserCode.evaluate_model(model.raw_model(), test_data)\n",
    "\n",
    "# Uggg, I don't really like this\n",
    "t = wandb.Table(columns=[\"x\", \"y\"], data=[[wandb.Image(row[0]), row[1]] for row in test_data])\n",
    "t.add_column(\"pred\", preds)\n",
    "\n",
    "MR.log_evaluation_table(\n",
    "    table               = t,\n",
    "    # model_or_id         = model,\n",
    "    additional_metrics  = {\n",
    "        \"test_loss\": loss,\n",
    "        \"test_accuracy\": acc,\n",
    "    }\n",
    ")\n",
    "wandb.finish()\n"
   ]
  },
  {
   "cell_type": "code",
   "execution_count": 4,
   "id": "0eac6717-dbce-447f-a68c-8c5c6e7d0c4c",
   "metadata": {},
   "outputs": [
    {
     "name": "stdout",
     "output_type": "stream",
     "text": [
      "Found 5 versions\n"
     ]
    }
   ],
   "source": [
    "# Version Fetching:\n",
    "versions = MR.model_versions(f'{project_name}/{registered_model_name}')\n",
    "print(f'Found {len(versions)} versions')"
   ]
  },
  {
   "cell_type": "code",
   "execution_count": null,
   "id": "380c43d0-3e4a-4945-9711-09195df607bd",
   "metadata": {},
   "outputs": [],
   "source": []
  }
 ],
 "metadata": {
  "kernelspec": {
   "display_name": "Python 3 (ipykernel)",
   "language": "python",
   "name": "python3"
  },
  "language_info": {
   "codemirror_mode": {
    "name": "ipython",
    "version": 3
   },
   "file_extension": ".py",
   "mimetype": "text/x-python",
   "name": "python",
   "nbconvert_exporter": "python",
   "pygments_lexer": "ipython3",
   "version": "3.9.9"
  }
 },
 "nbformat": 4,
 "nbformat_minor": 5
}
